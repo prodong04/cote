{
 "cells": [
  {
   "cell_type": "code",
   "execution_count": null,
   "metadata": {},
   "outputs": [],
   "source": [
    "import itertools\n",
    "\n",
    "def distance(lst1, lst2):\n",
    "    lst = lst1 - lst2\n",
    "    return abs(lst[0]) + abs(lst[1])    \n",
    "\n",
    "\n",
    "n, m = map(int, input().split())\n",
    "lst = []\n",
    "for i in range(n):\n",
    "    lst.append(input().split())\n",
    "\n",
    "chiken = []\n",
    "house = []\n",
    "### lst로 받았다고 가정하고, 위치부터 먼저 찾자. \n",
    "for i in range(n):\n",
    "    for j in range(n):\n",
    "        if lst[i][j] == 1 :\n",
    "            house.append([i, j])\n",
    "        elif lst[i][j] == 2:\n",
    "            chiken.append([i, j])\n",
    "            \n",
    "if m < len(chiken):\n",
    "    for i in itertools.combinations(chiken, m):\n",
    "        temp = 0\n",
    "        for j in range(len(house)):\n",
    "            dist = 1e9\n",
    "            for k in range(m):\n",
    "                if distance(i[k], house[j]) < dist:\n",
    "                    dist = distance(i[k], house[j])\n",
    "            temp += dist\n",
    "        if answer == 0:\n",
    "            answer = temp\n",
    "        elif temp < answer:\n",
    "            answer = temp"
   ]
  },
  {
   "cell_type": "code",
   "execution_count": 5,
   "metadata": {},
   "outputs": [
    {
     "name": "stdout",
     "output_type": "stream",
     "text": [
      "<class 'list'>\n",
      "<class 'list'>\n",
      "<class 'list'>\n",
      "<class 'list'>\n"
     ]
    }
   ],
   "source": [
    "import itertools\n",
    "\n",
    "chiken = [[2,3],[1,2],[2,4],[3,2]]\n",
    "\n",
    "for i in itertools.combinations(chiken, 3):\n",
    "    print(type(i[2]))"
   ]
  },
  {
   "cell_type": "code",
   "execution_count": null,
   "metadata": {},
   "outputs": [],
   "source": []
  }
 ],
 "metadata": {
  "kernelspec": {
   "display_name": "Python 3",
   "language": "python",
   "name": "python3"
  },
  "language_info": {
   "codemirror_mode": {
    "name": "ipython",
    "version": 3
   },
   "file_extension": ".py",
   "mimetype": "text/x-python",
   "name": "python",
   "nbconvert_exporter": "python",
   "pygments_lexer": "ipython3",
   "version": "3.10.14"
  }
 },
 "nbformat": 4,
 "nbformat_minor": 2
}
